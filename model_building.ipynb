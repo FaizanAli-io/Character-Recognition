{
 "cells": [
  {
   "cell_type": "code",
   "execution_count": 1,
   "metadata": {},
   "outputs": [],
   "source": [
    "import os, cv2\n",
    "import numpy as np\n",
    "import pandas as pd\n",
    "import tensorflow as tf\n",
    "import matplotlib.pyplot as plt\n",
    "from tensorflow.keras.models import Sequential, load_model\n",
    "from tensorflow.keras.layers import Dense, Flatten, Dropout, Conv2D, MaxPooling2D"
   ]
  },
  {
   "cell_type": "code",
   "execution_count": 8,
   "metadata": {},
   "outputs": [
    {
     "name": "stdout",
     "output_type": "stream",
     "text": [
      "Found 1980 files belonging to 36 classes.\n"
     ]
    },
    {
     "data": {
      "text/plain": [
       "'\\ntest_data = load_data(\\n    test_directory,\\n    labels = \"inferred\",\\n    label_mode = \"categorical\",\\n    image_size = [128, 128],\\n    color_mode = \"grayscale\",\\n    interpolation = \"nearest\",\\n    batch_size = 256,\\n    shuffle = False,\\n)\\n'"
      ]
     },
     "execution_count": 8,
     "metadata": {},
     "output_type": "execute_result"
    }
   ],
   "source": [
    "train_directory = \"./dataset\"\n",
    "#test_directory = \"./test\"\n",
    "load_data = tf.keras.preprocessing.image_dataset_from_directory\n",
    "\n",
    "train_data = load_data(\n",
    "    train_directory,\n",
    "    labels = \"inferred\",\n",
    "    label_mode = \"categorical\",\n",
    "    image_size = [64, 64],\n",
    "    color_mode = \"grayscale\",\n",
    "    interpolation = \"nearest\",\n",
    "    batch_size = 32,\n",
    "    shuffle = True,\n",
    ")\n",
    "\"\"\"\n",
    "test_data = load_data(\n",
    "    test_directory,\n",
    "    labels = \"inferred\",\n",
    "    label_mode = \"categorical\",\n",
    "    image_size = [128, 128],\n",
    "    color_mode = \"grayscale\",\n",
    "    interpolation = \"nearest\",\n",
    "    batch_size = 256,\n",
    "    shuffle = False,\n",
    ")\n",
    "\"\"\""
   ]
  },
  {
   "cell_type": "code",
   "execution_count": 5,
   "metadata": {
    "collapsed": true
   },
   "outputs": [
    {
     "name": "stdout",
     "output_type": "stream",
     "text": [
      "Model: \"sequential_1\"\n",
      "_________________________________________________________________\n",
      "Layer (type)                 Output Shape              Param #   \n",
      "=================================================================\n",
      "conv2d_4 (Conv2D)            (None, 62, 62, 64)        640       \n",
      "_________________________________________________________________\n",
      "max_pooling2d_2 (MaxPooling2 (None, 31, 31, 64)        0         \n",
      "_________________________________________________________________\n",
      "conv2d_5 (Conv2D)            (None, 29, 29, 128)       73856     \n",
      "_________________________________________________________________\n",
      "max_pooling2d_3 (MaxPooling2 (None, 14, 14, 128)       0         \n",
      "_________________________________________________________________\n",
      "conv2d_6 (Conv2D)            (None, 12, 12, 256)       295168    \n",
      "_________________________________________________________________\n",
      "flatten_1 (Flatten)          (None, 36864)             0         \n",
      "_________________________________________________________________\n",
      "dense_3 (Dense)              (None, 64)                2359360   \n",
      "_________________________________________________________________\n",
      "dropout_2 (Dropout)          (None, 64)                0         \n",
      "_________________________________________________________________\n",
      "dense_4 (Dense)              (None, 64)                4160      \n",
      "_________________________________________________________________\n",
      "dropout_3 (Dropout)          (None, 64)                0         \n",
      "_________________________________________________________________\n",
      "dense_5 (Dense)              (None, 36)                2340      \n",
      "=================================================================\n",
      "Total params: 2,735,524\n",
      "Trainable params: 2,735,524\n",
      "Non-trainable params: 0\n",
      "_________________________________________________________________\n"
     ]
    }
   ],
   "source": [
    "# Building\n",
    "model = Sequential([\n",
    "    # Convulational Base\n",
    "    Conv2D(64, kernel_size = 3, strides = 1, activation = 'relu', input_shape = [64, 64, 1]),\n",
    "    MaxPooling2D(pool_size = (2, 2)),\n",
    "    \n",
    "    Conv2D(128, kernel_size = 3, strides = 1, activation = 'relu'),\n",
    "    MaxPooling2D(pool_size = (2, 2)),\n",
    "    \n",
    "    Conv2D(256, kernel_size = 3, strides = 1, activation = 'relu'),\n",
    "    \n",
    "    # Head\n",
    "    Flatten(),\n",
    "    \n",
    "    Dense(64, activation = 'relu'),\n",
    "    Dropout(0.1),\n",
    "    \n",
    "    Dense(64, activation = 'relu'),\n",
    "    Dropout(0.1),\n",
    "    \n",
    "    # Output\n",
    "    Dense(36, activation = 'softmax'),\n",
    "])\n",
    "\n",
    "# Compiling\n",
    "model.compile(\n",
    "    optimizer = \"adam\",\n",
    "    loss = \"categorical_crossentropy\",\n",
    "    metrics = [\"accuracy\"],\n",
    ")\n",
    "\n",
    "# Summarizing\n",
    "model.summary()"
   ]
  },
  {
   "cell_type": "code",
   "execution_count": 10,
   "metadata": {},
   "outputs": [
    {
     "name": "stdout",
     "output_type": "stream",
     "text": [
      "Epoch 1/5\n",
      "62/62 [==============================] - 25s 394ms/step - loss: 0.0976 - accuracy: 0.9702\n",
      "Epoch 2/5\n",
      "62/62 [==============================] - 25s 397ms/step - loss: 0.1029 - accuracy: 0.9712\n",
      "Epoch 3/5\n",
      "62/62 [==============================] - 26s 411ms/step - loss: 0.0700 - accuracy: 0.9768\n",
      "Epoch 4/5\n",
      "62/62 [==============================] - 26s 411ms/step - loss: 0.0697 - accuracy: 0.9753\n",
      "Epoch 5/5\n",
      "62/62 [==============================] - 26s 414ms/step - loss: 0.0661 - accuracy: 0.9758\n"
     ]
    }
   ],
   "source": [
    "model.fit(\n",
    "    train_data,\n",
    "    epochs = 5,\n",
    ")\n",
    "\n",
    "model.save('models/mymodelv2', save_format = 'h5')"
   ]
  },
  {
   "cell_type": "code",
   "execution_count": 27,
   "metadata": {},
   "outputs": [
    {
     "data": {
      "image/png": "[encoded data removed]",
      "text/plain": [
       "<Figure size 432x288 with 1 Axes>"
      ]
     },
     "metadata": {
      "needs_background": "light"
     },
     "output_type": "display_data"
    }
   ],
   "source": [
    "for item in train_data:\n",
    "    image = np.array(item[0][0])\n",
    "    plt.imshow(image)\n",
    "    break"
   ]
  },
  {
   "cell_type": "code",
   "execution_count": null,
   "metadata": {},
   "outputs": [],
   "source": []
  }
 ],
 "metadata": {
  "kernelspec": {
   "display_name": "Python 3",
   "language": "python",
   "name": "python3"
  },
  "language_info": {
   "codemirror_mode": {
    "name": "ipython",
    "version": 3
   },
   "file_extension": ".py",
   "mimetype": "text/x-python",
   "name": "python",
   "nbconvert_exporter": "python",
   "pygments_lexer": "ipython3",
   "version": "3.9.5"
  }
 },
 "nbformat": 4,
 "nbformat_minor": 4
}
